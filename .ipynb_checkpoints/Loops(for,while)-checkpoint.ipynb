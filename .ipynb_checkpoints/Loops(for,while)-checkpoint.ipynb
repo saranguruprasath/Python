{
 "cells": [
  {
   "cell_type": "code",
   "execution_count": 24,
   "metadata": {},
   "outputs": [],
   "source": [
    "mynum = [1,2,3,4,5,6,7,8,9,10]\n",
    "mydict = {'k1':1,'k2':2,'k3':3,'k4':4}\n",
    "mytup = [(1,2,3),(4,5,6),(7,8,9)]   #Tuples in List\n",
    "mystring = 'Hello World'"
   ]
  },
  {
   "cell_type": "code",
   "execution_count": 7,
   "metadata": {},
   "outputs": [
    {
     "name": "stdout",
     "output_type": "stream",
     "text": [
      "1\n",
      "2\n",
      "3\n",
      "4\n",
      "5\n",
      "6\n",
      "7\n",
      "8\n",
      "9\n",
      "10\n",
      "Total is:55\n"
     ]
    }
   ],
   "source": [
    "add = 0\n",
    "for num in mynum:\n",
    "    print (num)\n",
    "    add = add + num\n",
    "print (f\"Total is:{add}\")"
   ]
  },
  {
   "cell_type": "code",
   "execution_count": 15,
   "metadata": {},
   "outputs": [
    {
     "name": "stdout",
     "output_type": "stream",
     "text": [
      "k1\n",
      "k2\n",
      "k3\n",
      "k4\n"
     ]
    }
   ],
   "source": [
    "for x in mydict.keys():  #mydict.values() print vslues and mydict.keys print keys\n",
    "    print(x)"
   ]
  },
  {
   "cell_type": "code",
   "execution_count": 21,
   "metadata": {},
   "outputs": [
    {
     "name": "stdout",
     "output_type": "stream",
     "text": [
      "1\n",
      "1 2\n",
      "1 2 3\n",
      "4\n",
      "4 5\n",
      "4 5 6\n",
      "7\n",
      "7 8\n",
      "7 8 9\n"
     ]
    }
   ],
   "source": [
    "for x,y,z in mytup:  # Printing tuples values\n",
    "    print (x)\n",
    "    print (x,y)\n",
    "    print (x,y,z)"
   ]
  },
  {
   "cell_type": "code",
   "execution_count": 25,
   "metadata": {},
   "outputs": [
    {
     "name": "stdout",
     "output_type": "stream",
     "text": [
      "H\n",
      "e\n",
      "l\n",
      "l\n",
      "o\n",
      " \n",
      "W\n",
      "o\n",
      "r\n",
      "l\n",
      "d\n"
     ]
    }
   ],
   "source": [
    "for x in mystring:  # for xin \"Helloworld\"\n",
    "    print (x)"
   ]
  },
  {
   "cell_type": "code",
   "execution_count": 40,
   "metadata": {},
   "outputs": [
    {
     "name": "stdout",
     "output_type": "stream",
     "text": [
      "Value of x is:0\n",
      "Value of x is:1\n",
      "Value of x is:2\n"
     ]
    }
   ],
   "source": [
    "x = 0\n",
    "while x < 5:\n",
    "    print (f\"Value of x is:{x}\")\n",
    "    if x == 2:\n",
    "        break   # used to break the loop\n",
    "    x+=1"
   ]
  },
  {
   "cell_type": "code",
   "execution_count": 47,
   "metadata": {},
   "outputs": [
    {
     "name": "stdout",
     "output_type": "stream",
     "text": [
      "Value of y is:s\n",
      "Value of y is:a\n",
      "Value of y is:m\n",
      "Value of y is:m\n",
      "Value of y is:y\n"
     ]
    }
   ],
   "source": [
    "y = 'sammy'\n",
    "for x in y:\n",
    "    if x == 'a':\n",
    "        pass         # pass used declare empty statements\n",
    "    print (f\"Value of y is:{x}\")"
   ]
  },
  {
   "cell_type": "code",
   "execution_count": 49,
   "metadata": {},
   "outputs": [
    {
     "name": "stdout",
     "output_type": "stream",
     "text": [
      "Value of y is:s\n",
      "Value of y is:m\n",
      "Value of y is:m\n",
      "Value of y is:y\n"
     ]
    }
   ],
   "source": [
    "y = 'sammy'\n",
    "for x in y:\n",
    "    if x == 'a':\n",
    "        continue     # close the current loop\n",
    "    print (f\"Value of y is:{x}\")"
   ]
  },
  {
   "cell_type": "code",
   "execution_count": 7,
   "metadata": {},
   "outputs": [
    {
     "name": "stdout",
     "output_type": "stream",
     "text": [
      "Enter Number for Factorial:100\n",
      "Factorial of 100 is: 93326215443944152681699238856266700490715968264381621468592963895217599993229915608941463976156518286253697920827223758251185210916864000000000000000000000000\n"
     ]
    }
   ],
   "source": [
    "#Factorial program\n",
    "num= int(input(\"Enter Number for Factorial:\"))\n",
    "fact=1\n",
    "for i in range(1,num+1):\n",
    "    fact = i*fact\n",
    "print(f'Factorial of {num} is: {fact}')"
   ]
  },
  {
   "cell_type": "code",
   "execution_count": null,
   "metadata": {},
   "outputs": [],
   "source": []
  },
  {
   "cell_type": "code",
   "execution_count": null,
   "metadata": {},
   "outputs": [],
   "source": []
  }
 ],
 "metadata": {
  "kernelspec": {
   "display_name": "Python 3",
   "language": "python",
   "name": "python3"
  },
  "language_info": {
   "codemirror_mode": {
    "name": "ipython",
    "version": 3
   },
   "file_extension": ".py",
   "mimetype": "text/x-python",
   "name": "python",
   "nbconvert_exporter": "python",
   "pygments_lexer": "ipython3",
   "version": "3.6.5"
  }
 },
 "nbformat": 4,
 "nbformat_minor": 2
}
