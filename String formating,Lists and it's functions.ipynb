{
 "cells": [
  {
   "cell_type": "code",
   "execution_count": 1,
   "metadata": {},
   "outputs": [
    {
     "name": "stdout",
     "output_type": "stream",
     "text": [
      "Jose is Manchester United manager\n",
      "Pi value is 3.1429\n",
      "b\n",
      "[1, 2, 4, 7, 6]\n",
      "['a', 'b', 'c', 'd', 'e', 'f', 'g']\n",
      "[1, 2, 3, 4, 5, 6, 7]\n",
      "[7, 6, 5, 4, 3, 2, 1]\n",
      "multi list before append [8, 'quick', 3.256]\n",
      "multi list after append [8, 'quick', 3.256, 'End']\n",
      "multi list after indexing append ['Start', 8, 'quick', 3.256, 'End']\n",
      "multi list after pop ['Start', 8, 'quick', 3.256]\n",
      "multi list after indexing pop [8, 'quick', 3.256]\n"
     ]
    }
   ],
   "source": [
    "name = 'Jose'\n",
    "occupation = 'manager'\n",
    "print(f'{name} is Manchester United {occupation}')\n",
    "\n",
    "# String formating\n",
    "pi = 22/7\n",
    "print('Pi value is {p:1.4f}'.format(p=pi))\n",
    "\n",
    "#list\n",
    "alpha_list = ['a','c','g','b','d','f','e']\n",
    "num_list = [5,3,1,2,4,7,6]\n",
    "multi_list = [8,\"quick\",3.256]\n",
    "\n",
    "#list Indexing and Slicing\n",
    "print (alpha_list[3])\n",
    "print (num_list[2:])\n",
    "\n",
    "#list functions\n",
    "\n",
    "alpha_list.sort()\n",
    "num_list.sort()\n",
    "print(alpha_list)\n",
    "print(num_list)\n",
    "\n",
    "num_list.reverse()\n",
    "print(num_list)\n",
    "\n",
    "print(\"multi list before append {}\".format(multi_list))\n",
    "multi_list.append(\"End\")\n",
    "print(\"multi list after append {}\".format(multi_list))\n",
    "multi_list.insert(0,\"Start\")  #indexing insert\n",
    "print(\"multi list after indexing append {}\".format(multi_list))\n",
    "multi_list.pop()\n",
    "print(\"multi list after pop {}\".format(multi_list))\n",
    "multi_list.pop(0)  #indexing pop\n",
    "print(\"multi list after indexing pop {}\".format(multi_list)) "
   ]
  },
  {
   "cell_type": "code",
   "execution_count": null,
   "metadata": {},
   "outputs": [],
   "source": []
  }
 ],
 "metadata": {
  "kernelspec": {
   "display_name": "Python 3",
   "language": "python",
   "name": "python3"
  },
  "language_info": {
   "codemirror_mode": {
    "name": "ipython",
    "version": 3
   },
   "file_extension": ".py",
   "mimetype": "text/x-python",
   "name": "python",
   "nbconvert_exporter": "python",
   "pygments_lexer": "ipython3",
   "version": "3.6.5"
  }
 },
 "nbformat": 4,
 "nbformat_minor": 2
}
