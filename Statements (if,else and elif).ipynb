{
 "cells": [
  {
   "cell_type": "code",
   "execution_count": 23,
   "metadata": {},
   "outputs": [
    {
     "name": "stdout",
     "output_type": "stream",
     "text": [
      "Enter a Number:6\n",
      "<class 'int'>\n",
      "6 is Even Number\n"
     ]
    }
   ],
   "source": [
    "a = int(input (\"Enter a Number:\"))\n",
    "print(type(a))\n",
    "\n",
    "if ((a%2) == 0):\n",
    "    print(\"{} is Even Number\".format(a))\n",
    "else:\n",
    "    print(\"{} is Odd Number\".format(a))"
   ]
  },
  {
   "cell_type": "code",
   "execution_count": 10,
   "metadata": {},
   "outputs": [
    {
     "name": "stdout",
     "output_type": "stream",
     "text": [
      "Feed me\n"
     ]
    }
   ],
   "source": [
    "hungry = True\n",
    "if hungry:\n",
    "    print(\"Feed me\")\n",
    "else:\n",
    "    print(\"i am not hungry\")"
   ]
  },
  {
   "cell_type": "code",
   "execution_count": 26,
   "metadata": {},
   "outputs": [
    {
     "name": "stdout",
     "output_type": "stream",
     "text": [
      "Enter value for vara:10\n",
      "Enter value for varb:12\n",
      "10 is less than 12\n"
     ]
    }
   ],
   "source": [
    "vara = int(input(\"Enter value for vara:\"))\n",
    "varb = int(input(\"Enter value for varb:\"))\n",
    "\n",
    "if vara == varb:\n",
    "    print (\"{} is equal {}\".format(vara,varb))\n",
    "elif vara > varb:\n",
    "    print (\"{} is greater than {}\".format(vara,varb))\n",
    "else:\n",
    "    print (\"{} is less than {}\".format(vara,varb))"
   ]
  },
  {
   "cell_type": "code",
   "execution_count": null,
   "metadata": {},
   "outputs": [],
   "source": []
  }
 ],
 "metadata": {
  "kernelspec": {
   "display_name": "Python 3",
   "language": "python",
   "name": "python3"
  },
  "language_info": {
   "codemirror_mode": {
    "name": "ipython",
    "version": 3
   },
   "file_extension": ".py",
   "mimetype": "text/x-python",
   "name": "python",
   "nbconvert_exporter": "python",
   "pygments_lexer": "ipython3",
   "version": "3.6.5"
  }
 },
 "nbformat": 4,
 "nbformat_minor": 2
}
